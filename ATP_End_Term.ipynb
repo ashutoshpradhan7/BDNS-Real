{
  "cells": [
    {
      "cell_type": "markdown",
      "metadata": {
        "id": "oKYqP2LIcUTY"
      },
      "source": [
        "# Install MongoDB & Load Data"
      ]
    },
    {
      "cell_type": "code",
      "execution_count": 1,
      "metadata": {
        "colab": {
          "base_uri": "https://localhost:8080/"
        },
        "id": "nX2ql2KPOfxf",
        "outputId": "b9bdd984-5141-45b2-946f-f9e6f7e504e4"
      },
      "outputs": [
        {
          "output_type": "stream",
          "name": "stdout",
          "text": [
            "\n",
            "WARNING: apt does not have a stable CLI interface. Use with caution in scripts.\n",
            "\n"
          ]
        }
      ],
      "source": [
        "!apt install mongodb > /dev/null\n",
        "from pymongo import MongoClient\n",
        "import pandas as pd"
      ]
    },
    {
      "cell_type": "code",
      "execution_count": 2,
      "metadata": {
        "colab": {
          "base_uri": "https://localhost:8080/"
        },
        "id": "L9QFyn0iaL4k",
        "outputId": "d9307bda-f9bd-4d05-e6d1-01f1f9d32aeb"
      },
      "outputs": [
        {
          "output_type": "stream",
          "name": "stdout",
          "text": [
            " * Starting database mongodb\n",
            "   ...done.\n"
          ]
        }
      ],
      "source": [
        "!service mongodb start"
      ]
    },
    {
      "cell_type": "code",
      "execution_count": 3,
      "metadata": {
        "id": "uB20OJ9jaeor"
      },
      "outputs": [],
      "source": [
        "!wget -q https://raw.githubusercontent.com/ashutoshpradhan7/BDNS-Real/main/Churn_data.json"
      ]
    },
    {
      "cell_type": "code",
      "execution_count": 4,
      "metadata": {
        "colab": {
          "base_uri": "https://localhost:8080/"
        },
        "id": "Gbfrcbg9aeuv",
        "outputId": "8f106694-4a1f-466e-a89f-1ff4f64f528e"
      },
      "outputs": [
        {
          "output_type": "stream",
          "name": "stdout",
          "text": [
            "2023-02-05T16:47:48.136+0000\tconnected to: localhost\n",
            "2023-02-05T16:47:48.136+0000\tdropping: PraxisDB.Churn_data\n",
            "2023-02-05T16:47:48.356+0000\timported 10000 documents\n"
          ]
        }
      ],
      "source": [
        "!mongoimport --jsonArray --db PraxisDB --collection Churn_data --drop --file Churn_data.json"
      ]
    },
    {
      "cell_type": "code",
      "execution_count": 5,
      "metadata": {
        "colab": {
          "base_uri": "https://localhost:8080/"
        },
        "id": "iSY8LV26-clp",
        "outputId": "5bdfbbbd-b550-4142-a898-e8b6bc96618d"
      },
      "outputs": [
        {
          "output_type": "execute_result",
          "data": {
            "text/plain": [
              "['PraxisDB', 'admin', 'config', 'local']"
            ]
          },
          "metadata": {},
          "execution_count": 5
        }
      ],
      "source": [
        "mongoURI = \"mongodb://localhost:27017/\"    # local\n",
        "client = MongoClient(mongoURI)\n",
        "client.list_database_names() "
      ]
    },
    {
      "cell_type": "code",
      "execution_count": 6,
      "metadata": {
        "colab": {
          "base_uri": "https://localhost:8080/"
        },
        "id": "mFQvTd-C-crq",
        "outputId": "aa518122-3fd5-4460-b917-eb62a79c7190"
      },
      "outputs": [
        {
          "output_type": "execute_result",
          "data": {
            "text/plain": [
              "['Churn_data']"
            ]
          },
          "metadata": {},
          "execution_count": 6
        }
      ],
      "source": [
        "db = client.PraxisDB\n",
        "db.list_collection_names()"
      ]
    },
    {
      "cell_type": "code",
      "execution_count": 7,
      "metadata": {
        "colab": {
          "base_uri": "https://localhost:8080/"
        },
        "id": "0v7YRkx3-dUv",
        "outputId": "41be05b2-711c-48f1-e1f0-8e33c4a0b376"
      },
      "outputs": [
        {
          "output_type": "execute_result",
          "data": {
            "text/plain": [
              "10000"
            ]
          },
          "metadata": {},
          "execution_count": 7
        }
      ],
      "source": [
        "table = db.Churn_data\n",
        "table.count_documents({})"
      ]
    },
    {
      "cell_type": "markdown",
      "metadata": {
        "id": "kgyT3hSBi7ND"
      },
      "source": [
        "# EDA"
      ]
    },
    {
      "cell_type": "code",
      "execution_count": null,
      "metadata": {
        "id": "awEKEQEY2iic"
      },
      "outputs": [],
      "source": [
        "import numpy as np\n",
        "import matplotlib.pyplot as plt\n",
        "import seaborn as sns"
      ]
    },
    {
      "cell_type": "code",
      "execution_count": null,
      "metadata": {
        "colab": {
          "base_uri": "https://localhost:8080/",
          "height": 423
        },
        "id": "NyWCPVs93Y0o",
        "outputId": "3b6f5e24-0196-4fc5-8e76-a8db2cbfbcd6"
      },
      "outputs": [
        {
          "output_type": "execute_result",
          "data": {
            "text/plain": [
              "                           _id  CreditScore Geography  Gender  Age  Tenure  \\\n",
              "0     63df88f15eaf6876c272b022          608     Spain  Female   41       1   \n",
              "1     63df88f15eaf6876c272b023          502    France  Female   42       8   \n",
              "2     63df88f15eaf6876c272b024          619    France  Female   42       2   \n",
              "3     63df88f15eaf6876c272b025          699    France  Female   39       1   \n",
              "4     63df88f15eaf6876c272b026          850     Spain  Female   43       2   \n",
              "...                        ...          ...       ...     ...  ...     ...   \n",
              "9995  63df88f15eaf6876c272d736          771    France    Male   39       5   \n",
              "9996  63df88f15eaf6876c272d737          516    France    Male   35      10   \n",
              "9997  63df88f15eaf6876c272d738          709    France  Female   36       7   \n",
              "9998  63df88f15eaf6876c272d739          772   Germany    Male   42       3   \n",
              "9999  63df88f15eaf6876c272d73a          792    France  Female   28       4   \n",
              "\n",
              "        Balance  NumOfProducts  HasCrCard  IsActiveMember  EstimatedSalary  \\\n",
              "0      83807.86              1          0               1        112542.58   \n",
              "1     159660.80              3          1               0        113931.57   \n",
              "2          0.00              1          1               1        101348.88   \n",
              "3          0.00              2          0               0         93826.63   \n",
              "4     125510.82              1          1               1         79084.10   \n",
              "...         ...            ...        ...             ...              ...   \n",
              "9995       0.00              2          1               0         96270.64   \n",
              "9996   57369.61              1          1               1        101699.77   \n",
              "9997       0.00              1          0               1         42085.58   \n",
              "9998   75075.31              2          1               0         92888.52   \n",
              "9999  130142.79              1          1               0         38190.78   \n",
              "\n",
              "      Exited  \n",
              "0          0  \n",
              "1          1  \n",
              "2          1  \n",
              "3          0  \n",
              "4          0  \n",
              "...      ...  \n",
              "9995       0  \n",
              "9996       0  \n",
              "9997       1  \n",
              "9998       1  \n",
              "9999       0  \n",
              "\n",
              "[10000 rows x 12 columns]"
            ],
            "text/html": [
              "\n",
              "  <div id=\"df-b37a1720-000f-4843-93ac-a8f056929dfd\">\n",
              "    <div class=\"colab-df-container\">\n",
              "      <div>\n",
              "<style scoped>\n",
              "    .dataframe tbody tr th:only-of-type {\n",
              "        vertical-align: middle;\n",
              "    }\n",
              "\n",
              "    .dataframe tbody tr th {\n",
              "        vertical-align: top;\n",
              "    }\n",
              "\n",
              "    .dataframe thead th {\n",
              "        text-align: right;\n",
              "    }\n",
              "</style>\n",
              "<table border=\"1\" class=\"dataframe\">\n",
              "  <thead>\n",
              "    <tr style=\"text-align: right;\">\n",
              "      <th></th>\n",
              "      <th>_id</th>\n",
              "      <th>CreditScore</th>\n",
              "      <th>Geography</th>\n",
              "      <th>Gender</th>\n",
              "      <th>Age</th>\n",
              "      <th>Tenure</th>\n",
              "      <th>Balance</th>\n",
              "      <th>NumOfProducts</th>\n",
              "      <th>HasCrCard</th>\n",
              "      <th>IsActiveMember</th>\n",
              "      <th>EstimatedSalary</th>\n",
              "      <th>Exited</th>\n",
              "    </tr>\n",
              "  </thead>\n",
              "  <tbody>\n",
              "    <tr>\n",
              "      <th>0</th>\n",
              "      <td>63df88f15eaf6876c272b022</td>\n",
              "      <td>608</td>\n",
              "      <td>Spain</td>\n",
              "      <td>Female</td>\n",
              "      <td>41</td>\n",
              "      <td>1</td>\n",
              "      <td>83807.86</td>\n",
              "      <td>1</td>\n",
              "      <td>0</td>\n",
              "      <td>1</td>\n",
              "      <td>112542.58</td>\n",
              "      <td>0</td>\n",
              "    </tr>\n",
              "    <tr>\n",
              "      <th>1</th>\n",
              "      <td>63df88f15eaf6876c272b023</td>\n",
              "      <td>502</td>\n",
              "      <td>France</td>\n",
              "      <td>Female</td>\n",
              "      <td>42</td>\n",
              "      <td>8</td>\n",
              "      <td>159660.80</td>\n",
              "      <td>3</td>\n",
              "      <td>1</td>\n",
              "      <td>0</td>\n",
              "      <td>113931.57</td>\n",
              "      <td>1</td>\n",
              "    </tr>\n",
              "    <tr>\n",
              "      <th>2</th>\n",
              "      <td>63df88f15eaf6876c272b024</td>\n",
              "      <td>619</td>\n",
              "      <td>France</td>\n",
              "      <td>Female</td>\n",
              "      <td>42</td>\n",
              "      <td>2</td>\n",
              "      <td>0.00</td>\n",
              "      <td>1</td>\n",
              "      <td>1</td>\n",
              "      <td>1</td>\n",
              "      <td>101348.88</td>\n",
              "      <td>1</td>\n",
              "    </tr>\n",
              "    <tr>\n",
              "      <th>3</th>\n",
              "      <td>63df88f15eaf6876c272b025</td>\n",
              "      <td>699</td>\n",
              "      <td>France</td>\n",
              "      <td>Female</td>\n",
              "      <td>39</td>\n",
              "      <td>1</td>\n",
              "      <td>0.00</td>\n",
              "      <td>2</td>\n",
              "      <td>0</td>\n",
              "      <td>0</td>\n",
              "      <td>93826.63</td>\n",
              "      <td>0</td>\n",
              "    </tr>\n",
              "    <tr>\n",
              "      <th>4</th>\n",
              "      <td>63df88f15eaf6876c272b026</td>\n",
              "      <td>850</td>\n",
              "      <td>Spain</td>\n",
              "      <td>Female</td>\n",
              "      <td>43</td>\n",
              "      <td>2</td>\n",
              "      <td>125510.82</td>\n",
              "      <td>1</td>\n",
              "      <td>1</td>\n",
              "      <td>1</td>\n",
              "      <td>79084.10</td>\n",
              "      <td>0</td>\n",
              "    </tr>\n",
              "    <tr>\n",
              "      <th>...</th>\n",
              "      <td>...</td>\n",
              "      <td>...</td>\n",
              "      <td>...</td>\n",
              "      <td>...</td>\n",
              "      <td>...</td>\n",
              "      <td>...</td>\n",
              "      <td>...</td>\n",
              "      <td>...</td>\n",
              "      <td>...</td>\n",
              "      <td>...</td>\n",
              "      <td>...</td>\n",
              "      <td>...</td>\n",
              "    </tr>\n",
              "    <tr>\n",
              "      <th>9995</th>\n",
              "      <td>63df88f15eaf6876c272d736</td>\n",
              "      <td>771</td>\n",
              "      <td>France</td>\n",
              "      <td>Male</td>\n",
              "      <td>39</td>\n",
              "      <td>5</td>\n",
              "      <td>0.00</td>\n",
              "      <td>2</td>\n",
              "      <td>1</td>\n",
              "      <td>0</td>\n",
              "      <td>96270.64</td>\n",
              "      <td>0</td>\n",
              "    </tr>\n",
              "    <tr>\n",
              "      <th>9996</th>\n",
              "      <td>63df88f15eaf6876c272d737</td>\n",
              "      <td>516</td>\n",
              "      <td>France</td>\n",
              "      <td>Male</td>\n",
              "      <td>35</td>\n",
              "      <td>10</td>\n",
              "      <td>57369.61</td>\n",
              "      <td>1</td>\n",
              "      <td>1</td>\n",
              "      <td>1</td>\n",
              "      <td>101699.77</td>\n",
              "      <td>0</td>\n",
              "    </tr>\n",
              "    <tr>\n",
              "      <th>9997</th>\n",
              "      <td>63df88f15eaf6876c272d738</td>\n",
              "      <td>709</td>\n",
              "      <td>France</td>\n",
              "      <td>Female</td>\n",
              "      <td>36</td>\n",
              "      <td>7</td>\n",
              "      <td>0.00</td>\n",
              "      <td>1</td>\n",
              "      <td>0</td>\n",
              "      <td>1</td>\n",
              "      <td>42085.58</td>\n",
              "      <td>1</td>\n",
              "    </tr>\n",
              "    <tr>\n",
              "      <th>9998</th>\n",
              "      <td>63df88f15eaf6876c272d739</td>\n",
              "      <td>772</td>\n",
              "      <td>Germany</td>\n",
              "      <td>Male</td>\n",
              "      <td>42</td>\n",
              "      <td>3</td>\n",
              "      <td>75075.31</td>\n",
              "      <td>2</td>\n",
              "      <td>1</td>\n",
              "      <td>0</td>\n",
              "      <td>92888.52</td>\n",
              "      <td>1</td>\n",
              "    </tr>\n",
              "    <tr>\n",
              "      <th>9999</th>\n",
              "      <td>63df88f15eaf6876c272d73a</td>\n",
              "      <td>792</td>\n",
              "      <td>France</td>\n",
              "      <td>Female</td>\n",
              "      <td>28</td>\n",
              "      <td>4</td>\n",
              "      <td>130142.79</td>\n",
              "      <td>1</td>\n",
              "      <td>1</td>\n",
              "      <td>0</td>\n",
              "      <td>38190.78</td>\n",
              "      <td>0</td>\n",
              "    </tr>\n",
              "  </tbody>\n",
              "</table>\n",
              "<p>10000 rows × 12 columns</p>\n",
              "</div>\n",
              "      <button class=\"colab-df-convert\" onclick=\"convertToInteractive('df-b37a1720-000f-4843-93ac-a8f056929dfd')\"\n",
              "              title=\"Convert this dataframe to an interactive table.\"\n",
              "              style=\"display:none;\">\n",
              "        \n",
              "  <svg xmlns=\"http://www.w3.org/2000/svg\" height=\"24px\"viewBox=\"0 0 24 24\"\n",
              "       width=\"24px\">\n",
              "    <path d=\"M0 0h24v24H0V0z\" fill=\"none\"/>\n",
              "    <path d=\"M18.56 5.44l.94 2.06.94-2.06 2.06-.94-2.06-.94-.94-2.06-.94 2.06-2.06.94zm-11 1L8.5 8.5l.94-2.06 2.06-.94-2.06-.94L8.5 2.5l-.94 2.06-2.06.94zm10 10l.94 2.06.94-2.06 2.06-.94-2.06-.94-.94-2.06-.94 2.06-2.06.94z\"/><path d=\"M17.41 7.96l-1.37-1.37c-.4-.4-.92-.59-1.43-.59-.52 0-1.04.2-1.43.59L10.3 9.45l-7.72 7.72c-.78.78-.78 2.05 0 2.83L4 21.41c.39.39.9.59 1.41.59.51 0 1.02-.2 1.41-.59l7.78-7.78 2.81-2.81c.8-.78.8-2.07 0-2.86zM5.41 20L4 18.59l7.72-7.72 1.47 1.35L5.41 20z\"/>\n",
              "  </svg>\n",
              "      </button>\n",
              "      \n",
              "  <style>\n",
              "    .colab-df-container {\n",
              "      display:flex;\n",
              "      flex-wrap:wrap;\n",
              "      gap: 12px;\n",
              "    }\n",
              "\n",
              "    .colab-df-convert {\n",
              "      background-color: #E8F0FE;\n",
              "      border: none;\n",
              "      border-radius: 50%;\n",
              "      cursor: pointer;\n",
              "      display: none;\n",
              "      fill: #1967D2;\n",
              "      height: 32px;\n",
              "      padding: 0 0 0 0;\n",
              "      width: 32px;\n",
              "    }\n",
              "\n",
              "    .colab-df-convert:hover {\n",
              "      background-color: #E2EBFA;\n",
              "      box-shadow: 0px 1px 2px rgba(60, 64, 67, 0.3), 0px 1px 3px 1px rgba(60, 64, 67, 0.15);\n",
              "      fill: #174EA6;\n",
              "    }\n",
              "\n",
              "    [theme=dark] .colab-df-convert {\n",
              "      background-color: #3B4455;\n",
              "      fill: #D2E3FC;\n",
              "    }\n",
              "\n",
              "    [theme=dark] .colab-df-convert:hover {\n",
              "      background-color: #434B5C;\n",
              "      box-shadow: 0px 1px 3px 1px rgba(0, 0, 0, 0.15);\n",
              "      filter: drop-shadow(0px 1px 2px rgba(0, 0, 0, 0.3));\n",
              "      fill: #FFFFFF;\n",
              "    }\n",
              "  </style>\n",
              "\n",
              "      <script>\n",
              "        const buttonEl =\n",
              "          document.querySelector('#df-b37a1720-000f-4843-93ac-a8f056929dfd button.colab-df-convert');\n",
              "        buttonEl.style.display =\n",
              "          google.colab.kernel.accessAllowed ? 'block' : 'none';\n",
              "\n",
              "        async function convertToInteractive(key) {\n",
              "          const element = document.querySelector('#df-b37a1720-000f-4843-93ac-a8f056929dfd');\n",
              "          const dataTable =\n",
              "            await google.colab.kernel.invokeFunction('convertToInteractive',\n",
              "                                                     [key], {});\n",
              "          if (!dataTable) return;\n",
              "\n",
              "          const docLinkHtml = 'Like what you see? Visit the ' +\n",
              "            '<a target=\"_blank\" href=https://colab.research.google.com/notebooks/data_table.ipynb>data table notebook</a>'\n",
              "            + ' to learn more about interactive tables.';\n",
              "          element.innerHTML = '';\n",
              "          dataTable['output_type'] = 'display_data';\n",
              "          await google.colab.output.renderOutput(dataTable, element);\n",
              "          const docLink = document.createElement('div');\n",
              "          docLink.innerHTML = docLinkHtml;\n",
              "          element.appendChild(docLink);\n",
              "        }\n",
              "      </script>\n",
              "    </div>\n",
              "  </div>\n",
              "  "
            ]
          },
          "metadata": {},
          "execution_count": 9
        }
      ],
      "source": [
        "#View whole data as dataframe\n",
        "df = pd.DataFrame(list(db.Churn_data.find()))\n",
        "df"
      ]
    },
    {
      "cell_type": "code",
      "source": [
        "df.info()"
      ],
      "metadata": {
        "colab": {
          "base_uri": "https://localhost:8080/"
        },
        "id": "TOnW4PoslR2I",
        "outputId": "fc7e92c0-a58d-4d9a-b851-b5551d35afaf"
      },
      "execution_count": null,
      "outputs": [
        {
          "output_type": "stream",
          "name": "stdout",
          "text": [
            "<class 'pandas.core.frame.DataFrame'>\n",
            "RangeIndex: 10000 entries, 0 to 9999\n",
            "Data columns (total 12 columns):\n",
            " #   Column           Non-Null Count  Dtype  \n",
            "---  ------           --------------  -----  \n",
            " 0   _id              10000 non-null  object \n",
            " 1   CreditScore      10000 non-null  int64  \n",
            " 2   Geography        10000 non-null  object \n",
            " 3   Gender           10000 non-null  object \n",
            " 4   Age              10000 non-null  int64  \n",
            " 5   Tenure           10000 non-null  int64  \n",
            " 6   Balance          10000 non-null  float64\n",
            " 7   NumOfProducts    10000 non-null  int64  \n",
            " 8   HasCrCard        10000 non-null  int64  \n",
            " 9   IsActiveMember   10000 non-null  int64  \n",
            " 10  EstimatedSalary  10000 non-null  float64\n",
            " 11  Exited           10000 non-null  int64  \n",
            "dtypes: float64(2), int64(7), object(3)\n",
            "memory usage: 937.6+ KB\n"
          ]
        }
      ]
    },
    {
      "cell_type": "code",
      "source": [
        "df['Tenure'].value_counts()"
      ],
      "metadata": {
        "colab": {
          "base_uri": "https://localhost:8080/"
        },
        "id": "pbntZFoPDPvS",
        "outputId": "5806e2e6-4a34-4bd4-bc39-3fd204f2a783"
      },
      "execution_count": null,
      "outputs": [
        {
          "output_type": "execute_result",
          "data": {
            "text/plain": [
              "2     1048\n",
              "1     1035\n",
              "7     1028\n",
              "8     1025\n",
              "5     1012\n",
              "3     1009\n",
              "4      989\n",
              "9      984\n",
              "6      967\n",
              "10     490\n",
              "0      413\n",
              "Name: Tenure, dtype: int64"
            ]
          },
          "metadata": {},
          "execution_count": 11
        }
      ]
    },
    {
      "cell_type": "code",
      "execution_count": null,
      "metadata": {
        "colab": {
          "base_uri": "https://localhost:8080/",
          "height": 522
        },
        "id": "XKOdsg0A23dm",
        "outputId": "4404bef6-9bc2-44fe-d875-16ae94a2b56a"
      },
      "outputs": [
        {
          "output_type": "execute_result",
          "data": {
            "text/plain": [
              "<matplotlib.axes._subplots.AxesSubplot at 0x7f1631e26a30>"
            ]
          },
          "metadata": {},
          "execution_count": 12
        },
        {
          "output_type": "display_data",
          "data": {
            "text/plain": [
              "<Figure size 504x504 with 2 Axes>"
            ],
            "image/png": "[encoded data removed]"
          },
          "metadata": {
            "needs_background": "light"
          }
        }
      ],
      "source": [
        "#Correlation Heatmap\n",
        "plt.figure(figsize=(7,7))\n",
        "sns.heatmap (df.corr(),annot=True , fmt=\".1f\")"
      ]
    },
    {
      "cell_type": "code",
      "execution_count": null,
      "metadata": {
        "colab": {
          "base_uri": "https://localhost:8080/",
          "height": 607
        },
        "id": "6z2E-XKUjOCv",
        "outputId": "719c8539-5849-4f99-a840-21a16251eaed"
      },
      "outputs": [
        {
          "output_type": "display_data",
          "data": {
            "text/plain": [
              "<Figure size 720x720 with 9 Axes>"
            ],
            "image/png": "[encoded data removed]"
          },
          "metadata": {
            "needs_background": "light"
          }
        }
      ],
      "source": [
        "#Histogram of Numerical Variables\n",
        "plt.rcParams['figure.figsize'] = (10,10)\n",
        "df.hist()\n",
        "plt.show()"
      ]
    },
    {
      "cell_type": "code",
      "execution_count": null,
      "metadata": {
        "colab": {
          "base_uri": "https://localhost:8080/",
          "height": 297
        },
        "id": "1zBfYD2i3Y6r",
        "outputId": "70c92c46-f52d-4ac0-819c-4b25d5a7f570"
      },
      "outputs": [
        {
          "output_type": "execute_result",
          "data": {
            "text/plain": [
              "<matplotlib.axes._subplots.AxesSubplot at 0x7f162e733ca0>"
            ]
          },
          "metadata": {},
          "execution_count": 14
        },
        {
          "output_type": "display_data",
          "data": {
            "text/plain": [
              "<Figure size 576x288 with 1 Axes>"
            ],
            "image/png": "[encoded data removed]"
          },
          "metadata": {
            "needs_background": "light"
          }
        }
      ],
      "source": [
        "#Count Plot of the Target Variable\n",
        "plt.rcParams['figure.figsize'] = (8,4)\n",
        "sns.countplot(x='Exited', data = df)"
      ]
    },
    {
      "cell_type": "markdown",
      "metadata": {
        "id": "g7Z6_TN_MReq"
      },
      "source": [
        "# Install Spark and Transfer Data"
      ]
    },
    {
      "cell_type": "code",
      "execution_count": null,
      "metadata": {
        "id": "lLnkrk_HV98Q"
      },
      "outputs": [],
      "source": [
        "!pip3 install -q pyspark"
      ]
    },
    {
      "cell_type": "code",
      "execution_count": null,
      "metadata": {
        "id": "y5M51wySV-D5"
      },
      "outputs": [],
      "source": [
        "from pyspark.sql import SparkSession\n",
        "spark = SparkSession \\\n",
        "    .builder \\\n",
        "    .master(\"local[*]\") \\\n",
        "    .config(\"spark.mongodb.input.uri\", \"mongodb://localhost:27017/sparkDB.coll01\") \\\n",
        "    .config(\"spark.mongodb.output.uri\", \"mongodb://localhost:27017/sparkDB.coll01\") \\\n",
        "    .config('spark.jars.packages', 'org.mongodb.spark:mongo-spark-connector_2.12:3.0.1')\\\n",
        "    .getOrCreate()"
      ]
    },
    {
      "cell_type": "code",
      "execution_count": null,
      "metadata": {
        "colab": {
          "base_uri": "https://localhost:8080/"
        },
        "id": "9ZvfaSzeV-Py",
        "outputId": "e1d99103-4ce8-4f85-f75f-3a0805b44f9a"
      },
      "outputs": [
        {
          "output_type": "stream",
          "name": "stdout",
          "text": [
            "+---+---------+-----------+---------------+------+------+---------+---------+--------------+-------------+------+--------------------+\n",
            "|Age|  Balance|CreditScore|EstimatedSalary|Exited|Gender|Geography|HasCrCard|IsActiveMember|NumOfProducts|Tenure|                 _id|\n",
            "+---+---------+-----------+---------------+------+------+---------+---------+--------------+-------------+------+--------------------+\n",
            "| 41| 83807.86|        608|      112542.58|     0|Female|    Spain|        0|             1|            1|     1|{63df88f15eaf6876...|\n",
            "| 42| 159660.8|        502|      113931.57|     1|Female|   France|        1|             0|            3|     8|{63df88f15eaf6876...|\n",
            "| 42|      0.0|        619|      101348.88|     1|Female|   France|        1|             1|            1|     2|{63df88f15eaf6876...|\n",
            "| 39|      0.0|        699|       93826.63|     0|Female|   France|        0|             0|            2|     1|{63df88f15eaf6876...|\n",
            "| 43|125510.82|        850|        79084.1|     0|Female|    Spain|        1|             1|            1|     2|{63df88f15eaf6876...|\n",
            "| 44|113755.78|        645|      149756.71|     1|  Male|    Spain|        1|             0|            2|     8|{63df88f15eaf6876...|\n",
            "| 29|115046.74|        376|      119346.88|     1|Female|  Germany|        1|             0|            4|     4|{63df88f15eaf6876...|\n",
            "| 44|142051.07|        501|        74940.5|     0|  Male|   France|        0|             1|            2|     4|{63df88f15eaf6876...|\n",
            "| 50|      0.0|        822|        10062.8|     0|  Male|   France|        1|             1|            2|     7|{63df88f15eaf6876...|\n",
            "| 27|134603.88|        684|       71725.73|     0|  Male|   France|        1|             1|            1|     2|{63df88f15eaf6876...|\n",
            "| 31|102016.72|        528|       80181.12|     0|  Male|   France|        0|             0|            2|     6|{63df88f15eaf6876...|\n",
            "| 24|      0.0|        497|       76390.01|     0|  Male|    Spain|        1|             0|            2|     3|{63df88f15eaf6876...|\n",
            "| 34|      0.0|        476|       26260.98|     0|Female|   France|        1|             0|            2|    10|{63df88f15eaf6876...|\n",
            "| 35|      0.0|        635|       65951.65|     0|Female|    Spain|        1|             1|            2|     7|{63df88f15eaf6876...|\n",
            "| 25|      0.0|        549|      190857.79|     0|Female|   France|        0|             0|            2|     5|{63df88f15eaf6876...|\n",
            "| 45|143129.41|        616|       64327.26|     0|  Male|  Germany|        0|             1|            2|     3|{63df88f15eaf6876...|\n",
            "| 58|132602.88|        653|        5097.67|     1|  Male|  Germany|        1|             0|            1|     1|{63df88f15eaf6876...|\n",
            "| 45|      0.0|        587|      158684.81|     0|  Male|    Spain|        0|             0|            1|     6|{63df88f15eaf6876...|\n",
            "| 24|      0.0|        726|       54724.03|     0|Female|   France|        1|             1|            2|     6|{63df88f15eaf6876...|\n",
            "| 24|      0.0|        549|       14406.41|     0|Female|    Spain|        1|             1|            2|     9|{63df88f15eaf6876...|\n",
            "+---+---------+-----------+---------------+------+------+---------+---------+--------------+-------------+------+--------------------+\n",
            "only showing top 20 rows\n",
            "\n"
          ]
        }
      ],
      "source": [
        "sparkDF = spark.read.format(\"mongo\").option(\"uri\",\"mongodb://127.0.0.1/PraxisDB.Churn_data\").load()\n",
        "sparkDF.show()"
      ]
    },
    {
      "cell_type": "code",
      "execution_count": null,
      "metadata": {
        "colab": {
          "base_uri": "https://localhost:8080/"
        },
        "id": "c9oP-esyNU0a",
        "outputId": "29ca7687-5692-4904-dd77-45dc94b953c0"
      },
      "outputs": [
        {
          "output_type": "stream",
          "name": "stdout",
          "text": [
            "root\n",
            " |-- Age: integer (nullable = true)\n",
            " |-- Balance: double (nullable = true)\n",
            " |-- CreditScore: integer (nullable = true)\n",
            " |-- EstimatedSalary: double (nullable = true)\n",
            " |-- Exited: integer (nullable = true)\n",
            " |-- Gender: string (nullable = true)\n",
            " |-- Geography: string (nullable = true)\n",
            " |-- HasCrCard: integer (nullable = true)\n",
            " |-- IsActiveMember: integer (nullable = true)\n",
            " |-- NumOfProducts: integer (nullable = true)\n",
            " |-- Tenure: integer (nullable = true)\n",
            "\n"
          ]
        }
      ],
      "source": [
        "sparkDF = sparkDF.drop(\"_id\")\n",
        "sparkDF.printSchema()"
      ]
    },
    {
      "cell_type": "code",
      "execution_count": null,
      "metadata": {
        "colab": {
          "base_uri": "https://localhost:8080/"
        },
        "id": "Jv9Kwp2HVajC",
        "outputId": "957ce59b-17cd-47a0-9f6e-6cc50f2d8bdc"
      },
      "outputs": [
        {
          "output_type": "stream",
          "name": "stdout",
          "text": [
            "+---+---------+-----------+---------------+------+------+---------+---------+--------------+-------------+------+\n",
            "|Age|  Balance|CreditScore|EstimatedSalary|Exited|Gender|Geography|HasCrCard|IsActiveMember|NumOfProducts|Tenure|\n",
            "+---+---------+-----------+---------------+------+------+---------+---------+--------------+-------------+------+\n",
            "| 41| 83807.86|        608|      112542.58|     0|Female|    Spain|        0|             1|            1|     1|\n",
            "| 42| 159660.8|        502|      113931.57|     1|Female|   France|        1|             0|            3|     8|\n",
            "| 42|      0.0|        619|      101348.88|     1|Female|   France|        1|             1|            1|     2|\n",
            "| 39|      0.0|        699|       93826.63|     0|Female|   France|        0|             0|            2|     1|\n",
            "| 43|125510.82|        850|        79084.1|     0|Female|    Spain|        1|             1|            1|     2|\n",
            "| 44|113755.78|        645|      149756.71|     1|  Male|    Spain|        1|             0|            2|     8|\n",
            "| 29|115046.74|        376|      119346.88|     1|Female|  Germany|        1|             0|            4|     4|\n",
            "| 44|142051.07|        501|        74940.5|     0|  Male|   France|        0|             1|            2|     4|\n",
            "| 50|      0.0|        822|        10062.8|     0|  Male|   France|        1|             1|            2|     7|\n",
            "| 27|134603.88|        684|       71725.73|     0|  Male|   France|        1|             1|            1|     2|\n",
            "| 31|102016.72|        528|       80181.12|     0|  Male|   France|        0|             0|            2|     6|\n",
            "| 24|      0.0|        497|       76390.01|     0|  Male|    Spain|        1|             0|            2|     3|\n",
            "| 34|      0.0|        476|       26260.98|     0|Female|   France|        1|             0|            2|    10|\n",
            "| 35|      0.0|        635|       65951.65|     0|Female|    Spain|        1|             1|            2|     7|\n",
            "| 25|      0.0|        549|      190857.79|     0|Female|   France|        0|             0|            2|     5|\n",
            "| 45|143129.41|        616|       64327.26|     0|  Male|  Germany|        0|             1|            2|     3|\n",
            "| 58|132602.88|        653|        5097.67|     1|  Male|  Germany|        1|             0|            1|     1|\n",
            "| 45|      0.0|        587|      158684.81|     0|  Male|    Spain|        0|             0|            1|     6|\n",
            "| 24|      0.0|        726|       54724.03|     0|Female|   France|        1|             1|            2|     6|\n",
            "| 24|      0.0|        549|       14406.41|     0|Female|    Spain|        1|             1|            2|     9|\n",
            "+---+---------+-----------+---------------+------+------+---------+---------+--------------+-------------+------+\n",
            "only showing top 20 rows\n",
            "\n"
          ]
        }
      ],
      "source": [
        "sparkDF.show()"
      ]
    },
    {
      "cell_type": "markdown",
      "metadata": {
        "id": "z8sZBuA_tHi-"
      },
      "source": [
        "# Data Preprocessing"
      ]
    },
    {
      "cell_type": "code",
      "execution_count": null,
      "metadata": {
        "colab": {
          "base_uri": "https://localhost:8080/"
        },
        "id": "Jvdr1lVZs-8z",
        "outputId": "c2e428e8-fbad-4715-8351-c4acbbe5acf8"
      },
      "outputs": [
        {
          "output_type": "execute_result",
          "data": {
            "text/plain": [
              "Age                0\n",
              "Balance            0\n",
              "CreditScore        0\n",
              "EstimatedSalary    0\n",
              "Exited             0\n",
              "Gender             0\n",
              "Geography          0\n",
              "HasCrCard          0\n",
              "IsActiveMember     0\n",
              "NumOfProducts      0\n",
              "Tenure             0\n",
              "dtype: int64"
            ]
          },
          "metadata": {},
          "execution_count": 20
        }
      ],
      "source": [
        "sparkDF.toPandas().isnull().sum()"
      ]
    },
    {
      "cell_type": "markdown",
      "metadata": {
        "id": "98AR8fpeE9lh"
      },
      "source": [
        "# Feature Engineering"
      ]
    },
    {
      "cell_type": "code",
      "execution_count": null,
      "metadata": {
        "id": "1jR5hu-yNrIs"
      },
      "outputs": [],
      "source": [
        "from pyspark.ml.feature import StringIndexer\n",
        "from pyspark.ml.feature import OneHotEncoder\n",
        "from pyspark.ml.feature import VectorAssembler\n",
        "from pyspark.ml.feature import StandardScaler\n",
        "from pyspark.ml import Pipeline"
      ]
    },
    {
      "cell_type": "code",
      "execution_count": null,
      "metadata": {
        "id": "YSg_z_fPNrSc"
      },
      "outputs": [],
      "source": [
        "Gender_indexer = StringIndexer(inputCol='Gender',outputCol='Gender_num')\n",
        "Geography_indexer = StringIndexer(inputCol='Geography',outputCol='Geography_num')\n",
        "HasCrCard_indexer = StringIndexer(inputCol='HasCrCard',outputCol='HasCrCard_num')\n",
        "IsActiveMember_indexer = StringIndexer(inputCol='IsActiveMember',outputCol='IsActiveMember_num')\n",
        "NumOfProducts_indexer = StringIndexer(inputCol='NumOfProducts',outputCol='NumOfProducts_num')\n",
        "Tenure_indexer = StringIndexer(inputCol='Tenure',outputCol='Tenure_num')\n",
        "encoder = OneHotEncoder(inputCols=[\"Gender_num\",\"Geography_num\",\"HasCrCard_num\",\"IsActiveMember_num\",\"NumOfProducts_num\",\"Tenure_num\"],\n",
        "                       outputCols=[\"Gender_vector\",\"Geography_vector\",\"HasCrCard_vector\",\"IsActiveMember_vector\",\"NumOfProducts_vector\",\"Tenure_vector\"])"
      ]
    },
    {
      "cell_type": "code",
      "execution_count": null,
      "metadata": {
        "id": "kOpkLolcNroL"
      },
      "outputs": [],
      "source": [
        "assembler=VectorAssembler(inputCols=[\"Age\",\"Balance\",\"CreditScore\",\"EstimatedSalary\",\"Gender_num\",\"Geography_num\",\"HasCrCard_num\",\"IsActiveMember_num\",\"NumOfProducts_num\",\"Tenure_num\"]\n",
        "                          ,outputCol='features')\n",
        "standard_scaler = StandardScaler(inputCol=\"features\", outputCol=\"features_scaled\")"
      ]
    },
    {
      "cell_type": "code",
      "execution_count": null,
      "metadata": {
        "id": "IQHV_BGtoE5S"
      },
      "outputs": [],
      "source": [
        "basepipe = Pipeline(stages=[Gender_indexer, Geography_indexer, HasCrCard_indexer, IsActiveMember_indexer,NumOfProducts_indexer,Tenure_indexer,\n",
        "                            encoder, assembler, standard_scaler])"
      ]
    },
    {
      "cell_type": "code",
      "execution_count": null,
      "metadata": {
        "colab": {
          "base_uri": "https://localhost:8080/"
        },
        "id": "frw7MbSrut8a",
        "outputId": "8e8bc48f-6445-4ef5-9a61-f48c587706e5"
      },
      "outputs": [
        {
          "output_type": "stream",
          "name": "stdout",
          "text": [
            "+----------------------------------------------------------------------------------------------------------------------------------------------------------------+------+\n",
            "|features_scaled                                                                                                                                                 |Exited|\n",
            "+----------------------------------------------------------------------------------------------------------------------------------------------------------------+------+\n",
            "|[3.9093017390053144,1.3431305312804156,6.290525082437989,1.9569051574074903,2.0083062457076424,2.416832769221561,2.1937499584452778,0.0,0.0,0.34151135425037593]|0     |\n",
            "|[4.004650561907883,2.5587730688822763,5.19382169635505,1.9810570978960365,2.0083062457076424,0.0,0.0,2.0008126162027735,3.438468177012218,1.024534062751128]    |1     |\n",
            "|(10,[0,2,3,4],[4.004650561907883,6.4043339243899915,1.762267632121752,2.0083062457076424])                                                                      |1     |\n",
            "|[3.718604093200177,0.0,7.232034593131832,1.6314697614819595,2.0083062457076424,0.0,2.1937499584452778,2.0008126162027735,1.719234088506109,0.34151135425037593] |0     |\n",
            "|[4.0999993848104515,2.011474989911932,8.794319605382057,1.375124714209766,2.0083062457076424,2.416832769221561,0.0,0.0,0.0,0.0]                                 |0     |\n",
            "+----------------------------------------------------------------------------------------------------------------------------------------------------------------+------+\n",
            "only showing top 5 rows\n",
            "\n"
          ]
        }
      ],
      "source": [
        "basepipe.fit(sparkDF).transform(sparkDF).select(['features_scaled','Exited']).show(5, False)"
      ]
    },
    {
      "cell_type": "markdown",
      "metadata": {
        "id": "kGfefWkAuDvF"
      },
      "source": [
        "# Spark ML Pipelines "
      ]
    },
    {
      "cell_type": "code",
      "execution_count": null,
      "metadata": {
        "colab": {
          "base_uri": "https://localhost:8080/"
        },
        "id": "t6nZxV4ItYyA",
        "outputId": "4b67a1ce-78fc-47aa-d42c-6ac1f6a6425f"
      },
      "outputs": [
        {
          "output_type": "stream",
          "name": "stdout",
          "text": [
            "7521 2479\n"
          ]
        }
      ],
      "source": [
        "dfTrain, dfTest = sparkDF.randomSplit([0.75,0.25])\n",
        "print(dfTrain.count(), dfTest.count())"
      ]
    },
    {
      "cell_type": "code",
      "execution_count": null,
      "metadata": {
        "colab": {
          "base_uri": "https://localhost:8080/"
        },
        "id": "-Ive4FzTksVg",
        "outputId": "033b2a49-64bf-4df0-8405-bbab06df229b"
      },
      "outputs": [
        {
          "output_type": "stream",
          "name": "stdout",
          "text": [
            "+------+-----+\n",
            "|Exited|count|\n",
            "+------+-----+\n",
            "|     1| 1532|\n",
            "|     0| 5989|\n",
            "+------+-----+\n",
            "\n"
          ]
        }
      ],
      "source": [
        "dfTrain.groupBy('Exited').count().show()"
      ]
    },
    {
      "cell_type": "code",
      "execution_count": null,
      "metadata": {
        "colab": {
          "base_uri": "https://localhost:8080/"
        },
        "id": "OwovIEm_ktyz",
        "outputId": "8dff3e69-ddf1-4a80-9230-c627a3062ab4"
      },
      "outputs": [
        {
          "output_type": "stream",
          "name": "stdout",
          "text": [
            "+------+-----+\n",
            "|Exited|count|\n",
            "+------+-----+\n",
            "|     1|  505|\n",
            "|     0| 1974|\n",
            "+------+-----+\n",
            "\n"
          ]
        }
      ],
      "source": [
        "dfTest.groupBy('Exited').count().show()"
      ]
    },
    {
      "cell_type": "code",
      "execution_count": null,
      "metadata": {
        "id": "WMcN6IwulkVt"
      },
      "outputs": [],
      "source": [
        "from pyspark.ml.classification import LogisticRegression\n",
        "from pyspark.ml.evaluation import MulticlassClassificationEvaluator\n",
        "from pyspark.ml.evaluation import BinaryClassificationEvaluator"
      ]
    },
    {
      "cell_type": "markdown",
      "metadata": {
        "id": "Coej43Wb9xV1"
      },
      "source": [
        "## Logistic Regression Pipeline "
      ]
    },
    {
      "cell_type": "code",
      "execution_count": null,
      "metadata": {
        "id": "8ugu4aetVzPG"
      },
      "outputs": [],
      "source": [
        "logreg = LogisticRegression(labelCol='Exited',featuresCol='features_scaled',maxIter=6)\n",
        "logreg_pipeline = Pipeline(stages=[basepipe,logreg])\n",
        "logreg_model = logreg_pipeline.fit(dfTrain)\n",
        "logreg_predictions=logreg_model.transform(dfTest)"
      ]
    },
    {
      "cell_type": "code",
      "execution_count": null,
      "metadata": {
        "id": "BEzAu4GaZHG8"
      },
      "outputs": [],
      "source": [
        "acc_evaluator = MulticlassClassificationEvaluator(labelCol=\"Exited\", predictionCol=\"prediction\", metricName=\"accuracy\")\n",
        "evaluator = BinaryClassificationEvaluator(labelCol='Exited')"
      ]
    },
    {
      "cell_type": "code",
      "execution_count": null,
      "metadata": {
        "colab": {
          "base_uri": "https://localhost:8080/"
        },
        "id": "QtVHbh6dlkbv",
        "outputId": "69d26986-436c-4c89-e913-f04f9c7b53a7"
      },
      "outputs": [
        {
          "output_type": "stream",
          "name": "stdout",
          "text": [
            "80.48 is the accuracy of the Logistic Regression Pipeline\n",
            "Area under ROC Curve: 0.7434\n"
          ]
        }
      ],
      "source": [
        "logreg_acc=acc_evaluator.evaluate(logreg_predictions)\n",
        "print(round(logreg_acc*100,2), 'is the accuracy of the Logistic Regression Pipeline')\n",
        "logreg_auroc = evaluator.evaluate(logreg_predictions, {evaluator.metricName: \"areaUnderROC\"})\n",
        "print(\"Area under ROC Curve: {:.4f}\".format(logreg_auroc))"
      ]
    },
    {
      "cell_type": "markdown",
      "metadata": {
        "id": "kRL2F3tA-fAZ"
      },
      "source": [
        "## Random Forest Pipeline"
      ]
    },
    {
      "cell_type": "code",
      "execution_count": null,
      "metadata": {
        "id": "PULiBtqKlksx"
      },
      "outputs": [],
      "source": [
        "from pyspark.ml.classification import RandomForestClassifier"
      ]
    },
    {
      "cell_type": "code",
      "execution_count": null,
      "metadata": {
        "id": "wZIG-OB_lkya"
      },
      "outputs": [],
      "source": [
        "ranfor = RandomForestClassifier(featuresCol='features_scaled', labelCol='Exited')\n",
        "ranfor_pipeline = Pipeline(stages=[basepipe, ranfor])\n",
        "ranfor_model = ranfor_pipeline.fit(dfTrain)\n",
        "ranfor_predictions=ranfor_model.transform(dfTest)"
      ]
    },
    {
      "cell_type": "code",
      "execution_count": null,
      "metadata": {
        "colab": {
          "base_uri": "https://localhost:8080/"
        },
        "id": "p3wfTocCYTDR",
        "outputId": "0fa7f4af-4363-42c0-de17-8399fe387d05"
      },
      "outputs": [
        {
          "output_type": "stream",
          "name": "stdout",
          "text": [
            "85.52 is the accuracy of the Random Forest Pipeline\n",
            "Area under ROC Curve: 0.8242\n"
          ]
        }
      ],
      "source": [
        "ranfor_acc=acc_evaluator.evaluate(ranfor_predictions)\n",
        "print(round(ranfor_acc*100,2), 'is the accuracy of the Random Forest Pipeline')\n",
        "ranfor_auroc = evaluator.evaluate(ranfor_predictions, {evaluator.metricName: \"areaUnderROC\"})\n",
        "print(\"Area under ROC Curve: {:.4f}\".format(ranfor_auroc))"
      ]
    },
    {
      "cell_type": "markdown",
      "metadata": {
        "id": "0UtbC5s9-_5y"
      },
      "source": [
        "## Gradient Boost Pipeline"
      ]
    },
    {
      "cell_type": "code",
      "execution_count": null,
      "metadata": {
        "id": "OHlZFRGYlk3j"
      },
      "outputs": [],
      "source": [
        "from pyspark.ml.classification import GBTClassifier"
      ]
    },
    {
      "cell_type": "code",
      "execution_count": null,
      "metadata": {
        "id": "Lv7oYZD7YTQ5"
      },
      "outputs": [],
      "source": [
        "gbt = GBTClassifier(featuresCol='features_scaled', labelCol='Exited')\n",
        "gbt_pipeline = Pipeline(stages=[basepipe, gbt])\n",
        "gbt_model = gbt_pipeline.fit(dfTrain)\n",
        "gbt_predictions=gbt_model.transform(dfTest)"
      ]
    },
    {
      "cell_type": "code",
      "execution_count": null,
      "metadata": {
        "colab": {
          "base_uri": "https://localhost:8080/"
        },
        "id": "tYMcfqsJYTWZ",
        "outputId": "298e8557-4003-4d86-a99f-bb66ebeb1940"
      },
      "outputs": [
        {
          "output_type": "stream",
          "name": "stdout",
          "text": [
            "85.48 is the accuracy of the Gradient Boost Pipeline\n",
            "Area under ROC Curve: 0.8544\n"
          ]
        }
      ],
      "source": [
        "gbt_acc=acc_evaluator.evaluate(gbt_predictions)\n",
        "print(round(gbt_acc*100,2), 'is the accuracy of the Gradient Boost Pipeline')\n",
        "gbt_auroc = evaluator.evaluate(gbt_predictions, {evaluator.metricName: \"areaUnderROC\"})\n",
        "print(\"Area under ROC Curve: {:.4f}\".format(gbt_auroc))"
      ]
    },
    {
      "cell_type": "markdown",
      "metadata": {
        "id": "jsLO9PE0_bPd"
      },
      "source": [
        "# Comparison of the Models"
      ]
    },
    {
      "cell_type": "code",
      "execution_count": null,
      "metadata": {
        "id": "A-OvVEFo_W2F",
        "colab": {
          "base_uri": "https://localhost:8080/"
        },
        "outputId": "4b0c9952-204f-444d-dc0b-5030bd85ffcc"
      },
      "outputs": [
        {
          "output_type": "stream",
          "name": "stdout",
          "text": [
            "80.48 is the accuracy of the Logistic Regression Pipeline\n",
            "85.52 is the accuracy of the Random Forest Pipeline\n",
            "85.48 is the accuracy of the Gradient Boost Pipeline\n"
          ]
        }
      ],
      "source": [
        "print(round(logreg_acc*100,2), 'is the accuracy of the Logistic Regression Pipeline')\n",
        "print(round(ranfor_acc*100,2), 'is the accuracy of the Random Forest Pipeline')\n",
        "print(round(gbt_acc*100,2), 'is the accuracy of the Gradient Boost Pipeline')"
      ]
    },
    {
      "cell_type": "code",
      "execution_count": null,
      "metadata": {
        "id": "D-fsOBuRbacw",
        "colab": {
          "base_uri": "https://localhost:8080/"
        },
        "outputId": "5a16a957-70d7-473d-b396-2156d479e949"
      },
      "outputs": [
        {
          "output_type": "stream",
          "name": "stdout",
          "text": [
            "Area under ROC Curve for Logistic Regression : 0.7434\n",
            "Area under ROC Curve for Random Forest       : 0.8242\n",
            "Area under ROC Curve for Gradient Boost      : 0.8544\n"
          ]
        }
      ],
      "source": [
        "print(\"Area under ROC Curve for Logistic Regression : {:.4f}\".format(logreg_auroc))\n",
        "print(\"Area under ROC Curve for Random Forest       : {:.4f}\".format(ranfor_auroc))\n",
        "print(\"Area under ROC Curve for Gradient Boost      : {:.4f}\".format(gbt_auroc))"
      ]
    },
    {
      "cell_type": "markdown",
      "metadata": {
        "id": "xAn6IDkcFZtm"
      },
      "source": [
        "*Random Forest gives us the best result as compared to GBM. Hence, it can be used to predict future churn.*"
      ]
    }
  ],
  "metadata": {
    "colab": {
      "provenance": []
    },
    "kernelspec": {
      "display_name": "Python 3 (ipykernel)",
      "language": "python",
      "name": "python3"
    },
    "language_info": {
      "codemirror_mode": {
        "name": "ipython",
        "version": 3
      },
      "file_extension": ".py",
      "mimetype": "text/x-python",
      "name": "python",
      "nbconvert_exporter": "python",
      "pygments_lexer": "ipython3",
      "version": "3.9.12"
    }
  },
  "nbformat": 4,
  "nbformat_minor": 0
}